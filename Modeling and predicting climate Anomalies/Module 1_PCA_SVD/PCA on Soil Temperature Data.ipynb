{
 "cells": [
  {
   "cell_type": "markdown",
   "id": "904df147-d6fd-4c6f-a698-ac4067f48226",
   "metadata": {},
   "source": [
    "## PCA on Soil Temperature Data"
   ]
  },
  {
   "cell_type": "markdown",
   "id": "b4752d81-f924-4d07-bd74-94026f8b57a1",
   "metadata": {},
   "source": [
    "Parquet is a columnar storage file format optimized for use with large-scale data processing frameworks. It is efficient in terms of both storage and query performance, especially with large datasets."
   ]
  },
  {
   "cell_type": "code",
   "execution_count": 3,
   "id": "7725b0b5-5cdc-4278-8247-3e760a4d41c6",
   "metadata": {},
   "outputs": [],
   "source": [
    "# Importing the libraries\n",
    "import pandas as pd\n",
    "import numpy as np\n",
    "import matplotlib.pyplot as plt\n",
    "import seaborn as sns\n",
    "import pyarrow\n",
    "\n",
    "# Importing the libraries for PCA\n",
    "from sklearn.decomposition import PCA\n",
    "from sklearn.preprocessing import StandardScaler"
   ]
  },
  {
   "cell_type": "code",
   "execution_count": 4,
   "id": "88813426-f629-4e0b-8bab-01cf59923b28",
   "metadata": {},
   "outputs": [
    {
     "data": {
      "text/html": [
       "<div>\n",
       "<style scoped>\n",
       "    .dataframe tbody tr th:only-of-type {\n",
       "        vertical-align: middle;\n",
       "    }\n",
       "\n",
       "    .dataframe tbody tr th {\n",
       "        vertical-align: top;\n",
       "    }\n",
       "\n",
       "    .dataframe thead th {\n",
       "        text-align: right;\n",
       "    }\n",
       "</style>\n",
       "<table border=\"1\" class=\"dataframe\">\n",
       "  <thead>\n",
       "    <tr style=\"text-align: right;\">\n",
       "      <th></th>\n",
       "      <th>date</th>\n",
       "      <th>precip</th>\n",
       "      <th>max_temp</th>\n",
       "      <th>min_temp</th>\n",
       "      <th>gwl</th>\n",
       "      <th>sm_20cm</th>\n",
       "      <th>st_20cm</th>\n",
       "      <th>sm_50cm</th>\n",
       "      <th>st_50cm</th>\n",
       "      <th>sm_100cm</th>\n",
       "      <th>st_100cm</th>\n",
       "      <th>daily_discharge_cfs</th>\n",
       "    </tr>\n",
       "  </thead>\n",
       "  <tbody>\n",
       "    <tr>\n",
       "      <th>85</th>\n",
       "      <td>2010-02-14</td>\n",
       "      <td>0.0</td>\n",
       "      <td>36</td>\n",
       "      <td>13</td>\n",
       "      <td>20.52</td>\n",
       "      <td>0.205500</td>\n",
       "      <td>0.408333</td>\n",
       "      <td>0.182875</td>\n",
       "      <td>1.320833</td>\n",
       "      <td>0.135333</td>\n",
       "      <td>3.700000</td>\n",
       "      <td>136.0</td>\n",
       "    </tr>\n",
       "    <tr>\n",
       "      <th>86</th>\n",
       "      <td>2010-02-15</td>\n",
       "      <td>0.0</td>\n",
       "      <td>41</td>\n",
       "      <td>7</td>\n",
       "      <td>20.51</td>\n",
       "      <td>0.215333</td>\n",
       "      <td>0.595833</td>\n",
       "      <td>0.183292</td>\n",
       "      <td>1.445833</td>\n",
       "      <td>0.137250</td>\n",
       "      <td>3.625000</td>\n",
       "      <td>129.0</td>\n",
       "    </tr>\n",
       "    <tr>\n",
       "      <th>87</th>\n",
       "      <td>2010-02-16</td>\n",
       "      <td>0.0</td>\n",
       "      <td>43</td>\n",
       "      <td>8</td>\n",
       "      <td>20.51</td>\n",
       "      <td>0.210417</td>\n",
       "      <td>0.500000</td>\n",
       "      <td>0.183625</td>\n",
       "      <td>1.495833</td>\n",
       "      <td>0.136583</td>\n",
       "      <td>3.700000</td>\n",
       "      <td>130.0</td>\n",
       "    </tr>\n",
       "    <tr>\n",
       "      <th>88</th>\n",
       "      <td>2010-02-17</td>\n",
       "      <td>0.0</td>\n",
       "      <td>51</td>\n",
       "      <td>10</td>\n",
       "      <td>20.51</td>\n",
       "      <td>0.209708</td>\n",
       "      <td>0.500000</td>\n",
       "      <td>0.184667</td>\n",
       "      <td>1.437500</td>\n",
       "      <td>0.135625</td>\n",
       "      <td>3.645833</td>\n",
       "      <td>132.0</td>\n",
       "    </tr>\n",
       "    <tr>\n",
       "      <th>89</th>\n",
       "      <td>2010-02-18</td>\n",
       "      <td>0.0</td>\n",
       "      <td>51</td>\n",
       "      <td>16</td>\n",
       "      <td>20.50</td>\n",
       "      <td>0.210542</td>\n",
       "      <td>0.637500</td>\n",
       "      <td>0.185125</td>\n",
       "      <td>1.479167</td>\n",
       "      <td>0.135333</td>\n",
       "      <td>3.708333</td>\n",
       "      <td>135.0</td>\n",
       "    </tr>\n",
       "  </tbody>\n",
       "</table>\n",
       "</div>"
      ],
      "text/plain": [
       "         date  precip  max_temp  min_temp    gwl   sm_20cm   st_20cm  \\\n",
       "85 2010-02-14     0.0        36        13  20.52  0.205500  0.408333   \n",
       "86 2010-02-15     0.0        41         7  20.51  0.215333  0.595833   \n",
       "87 2010-02-16     0.0        43         8  20.51  0.210417  0.500000   \n",
       "88 2010-02-17     0.0        51        10  20.51  0.209708  0.500000   \n",
       "89 2010-02-18     0.0        51        16  20.50  0.210542  0.637500   \n",
       "\n",
       "     sm_50cm   st_50cm  sm_100cm  st_100cm  daily_discharge_cfs  \n",
       "85  0.182875  1.320833  0.135333  3.700000                136.0  \n",
       "86  0.183292  1.445833  0.137250  3.625000                129.0  \n",
       "87  0.183625  1.495833  0.136583  3.700000                130.0  \n",
       "88  0.184667  1.437500  0.135625  3.645833                132.0  \n",
       "89  0.185125  1.479167  0.135333  3.708333                135.0  "
      ]
     },
     "execution_count": 4,
     "metadata": {},
     "output_type": "execute_result"
    }
   ],
   "source": [
    "# Reading final datset\n",
    "\n",
    "df = pd.read_parquet('pueblo.parquet')\n",
    "\n",
    "df.head()\n",
    "\n",
    "# note that cfs stands for cubic feet/person \n",
    "\n",
    "# gwl stands for ground water level "
   ]
  },
  {
   "cell_type": "code",
   "execution_count": 5,
   "id": "d6e58f5b-162f-4c5c-8201-75ca2d762f6d",
   "metadata": {},
   "outputs": [
    {
     "name": "stdout",
     "output_type": "stream",
     "text": [
      "Number of rows: 4881\n",
      "Number of columns: 12\n"
     ]
    }
   ],
   "source": [
    "num_rows, num_cols = df.shape\n",
    "\n",
    "print(f\"Number of rows: {num_rows}\")\n",
    "print(f\"Number of columns: {num_cols}\")"
   ]
  },
  {
   "cell_type": "code",
   "execution_count": 6,
   "id": "f350f178-8ab5-4931-bf4d-54a44392dfeb",
   "metadata": {},
   "outputs": [
    {
     "data": {
      "text/html": [
       "<div>\n",
       "<style scoped>\n",
       "    .dataframe tbody tr th:only-of-type {\n",
       "        vertical-align: middle;\n",
       "    }\n",
       "\n",
       "    .dataframe tbody tr th {\n",
       "        vertical-align: top;\n",
       "    }\n",
       "\n",
       "    .dataframe thead th {\n",
       "        text-align: right;\n",
       "    }\n",
       "</style>\n",
       "<table border=\"1\" class=\"dataframe\">\n",
       "  <thead>\n",
       "    <tr style=\"text-align: right;\">\n",
       "      <th></th>\n",
       "      <th>st_20cm</th>\n",
       "      <th>st_50cm</th>\n",
       "      <th>st_100cm</th>\n",
       "    </tr>\n",
       "  </thead>\n",
       "  <tbody>\n",
       "    <tr>\n",
       "      <th>85</th>\n",
       "      <td>0.408333</td>\n",
       "      <td>1.320833</td>\n",
       "      <td>3.700000</td>\n",
       "    </tr>\n",
       "    <tr>\n",
       "      <th>86</th>\n",
       "      <td>0.595833</td>\n",
       "      <td>1.445833</td>\n",
       "      <td>3.625000</td>\n",
       "    </tr>\n",
       "    <tr>\n",
       "      <th>87</th>\n",
       "      <td>0.500000</td>\n",
       "      <td>1.495833</td>\n",
       "      <td>3.700000</td>\n",
       "    </tr>\n",
       "    <tr>\n",
       "      <th>88</th>\n",
       "      <td>0.500000</td>\n",
       "      <td>1.437500</td>\n",
       "      <td>3.645833</td>\n",
       "    </tr>\n",
       "    <tr>\n",
       "      <th>89</th>\n",
       "      <td>0.637500</td>\n",
       "      <td>1.479167</td>\n",
       "      <td>3.708333</td>\n",
       "    </tr>\n",
       "    <tr>\n",
       "      <th>...</th>\n",
       "      <td>...</td>\n",
       "      <td>...</td>\n",
       "      <td>...</td>\n",
       "    </tr>\n",
       "    <tr>\n",
       "      <th>5039</th>\n",
       "      <td>18.787500</td>\n",
       "      <td>19.025000</td>\n",
       "      <td>19.116667</td>\n",
       "    </tr>\n",
       "    <tr>\n",
       "      <th>5040</th>\n",
       "      <td>18.779167</td>\n",
       "      <td>19.033333</td>\n",
       "      <td>19.108333</td>\n",
       "    </tr>\n",
       "    <tr>\n",
       "      <th>5041</th>\n",
       "      <td>19.100000</td>\n",
       "      <td>19.041667</td>\n",
       "      <td>19.095833</td>\n",
       "    </tr>\n",
       "    <tr>\n",
       "      <th>5042</th>\n",
       "      <td>18.854167</td>\n",
       "      <td>19.250000</td>\n",
       "      <td>19.033333</td>\n",
       "    </tr>\n",
       "    <tr>\n",
       "      <th>5043</th>\n",
       "      <td>18.491667</td>\n",
       "      <td>19.408333</td>\n",
       "      <td>19.016667</td>\n",
       "    </tr>\n",
       "  </tbody>\n",
       "</table>\n",
       "<p>4881 rows × 3 columns</p>\n",
       "</div>"
      ],
      "text/plain": [
       "        st_20cm    st_50cm   st_100cm\n",
       "85     0.408333   1.320833   3.700000\n",
       "86     0.595833   1.445833   3.625000\n",
       "87     0.500000   1.495833   3.700000\n",
       "88     0.500000   1.437500   3.645833\n",
       "89     0.637500   1.479167   3.708333\n",
       "...         ...        ...        ...\n",
       "5039  18.787500  19.025000  19.116667\n",
       "5040  18.779167  19.033333  19.108333\n",
       "5041  19.100000  19.041667  19.095833\n",
       "5042  18.854167  19.250000  19.033333\n",
       "5043  18.491667  19.408333  19.016667\n",
       "\n",
       "[4881 rows x 3 columns]"
      ]
     },
     "execution_count": 6,
     "metadata": {},
     "output_type": "execute_result"
    }
   ],
   "source": [
    "# We can see that we have 3 different type of soil temperature data. \n",
    "# With PCA we aim to reduce the dimensionality of the data, here particularly the soil temperature data.\n",
    "\n",
    "# creating feature list for soil moisture data\n",
    "pca_st_list = ['st_20cm', 'st_50cm', 'st_100cm']\n",
    "\n",
    "X = df[pca_st_list]\n",
    "\n",
    "X"
   ]
  },
  {
   "cell_type": "markdown",
   "id": "bf9e15c5-ac81-4561-a8d2-2e8feadafe53",
   "metadata": {},
   "source": [
    "Scaling is a crucial step in Principal Component Analysis (PCA) for several reasons. Here’s why scaling (or standardizing) the data is important before applying PCA:\n",
    "\n",
    "1. ***Equal Weighting of Features***\n",
    "\n",
    "**Variance Differences**: Different features in your dataset may have different units and scales (e.g., height in centimeters vs. weight in kilograms). If the features are not scaled to a common range, those with larger scales will dominate the principal components. This can lead to misleading results, where the principal components reflect the scale of the features rather than their actual importance or relationships.\n",
    "Standardization: Scaling (typically standardizing) transforms the data so that each feature has a mean of 0 and a standard deviation of\n",
    "one. This ensures that all features contribute equally to the analysis.\n",
    "\n",
    "2. ***Improving PCA Performance***\n",
    "\n",
    "**Covariance Matrix**: PCA involves the calculation of the covariance matrix of the features. If the features have different scales, the covariance matrix will be dominated by features with larger variances, skewing the principal components towards those features.\n",
    "Numerical Stability: Scaling the data can also help improve the numerical stability and accuracy of the PCA computation, as large differences in scale can lead to numerical issues during matrix operations.\n",
    "\n",
    "3. ***Interpretability***\n",
    "\n",
    "**Consistent Units**: By scaling the data, all features are transformed to a common scale, making the results of PCA easier to interpret. The principal components then reflect the underlying relationships between features rather than their scale."
   ]
  },
  {
   "cell_type": "code",
   "execution_count": 7,
   "id": "85ebbc93-61c1-4140-90f0-90e008dfd1c9",
   "metadata": {},
   "outputs": [
    {
     "data": {
      "text/plain": [
       "array([[-1.50143206, -1.60682967, -1.68986976],\n",
       "       [-1.48106444, -1.59132543, -1.70192544],\n",
       "       [-1.49147456, -1.58512373, -1.68986976],\n",
       "       ...,\n",
       "       [ 0.52899334,  0.59115548,  0.78489333],\n",
       "       [ 0.50228913,  0.61699589,  0.77484693],\n",
       "       [ 0.46291173,  0.6366346 ,  0.77216789]])"
      ]
     },
     "execution_count": 7,
     "metadata": {},
     "output_type": "execute_result"
    }
   ],
   "source": [
    "# Standardizing the features\n",
    "X_scaled = StandardScaler().fit_transform(X)\n",
    "X_scaled"
   ]
  },
  {
   "cell_type": "markdown",
   "id": "36e1dedf-b7c0-4640-909f-14775e19f539",
   "metadata": {},
   "source": [
    "###  Explained Variance in PCA\n",
    "\n",
    "PCA is a dimensionality reduction technique that transforms the data into a new coordinate system where the axes (principal components) are ordered by the amount of variance they capture from the original data. Here's what explained variance signifies:\n",
    "\n",
    "### Variance Explained by Each Component:\n",
    "\n",
    "**Explained variance** measures how much of the total variability (or variance) in the data is captured by each principal component.\n",
    "For each principal component, the explained variance quantifies the proportion of the total variance that this component captures.\n",
    "\n",
    "### Mathematical Aspect:\n",
    "\n",
    "In PCA, each principal component is a linear combination of the original features. The variance of each component is derived from the eigenvalues of the covariance matrix of the original data.\n",
    "The explained variance for a principal component is proportional to its corresponding eigenvalue.\n",
    "Cumulative Explained Variance:\n",
    "\n",
    "**Cumulative explained** variance refers to the sum of the explained variances of the principal components up to a certain point.\n",
    "It helps to determine how many principal components are needed to capture a desired amount of the total variance in the data."
   ]
  },
  {
   "cell_type": "code",
   "execution_count": 8,
   "id": "44d6152c-bfcf-4b40-91b6-d6d84d983efb",
   "metadata": {},
   "outputs": [
    {
     "data": {
      "image/png": "[encoded data removed]",
      "text/plain": [
       "<Figure size 1000x500 with 1 Axes>"
      ]
     },
     "metadata": {},
     "output_type": "display_data"
    }
   ],
   "source": [
    "# Performing PCA with 3 components and plotting the explained variance\n",
    "\n",
    "pca = PCA(n_components=3)\n",
    "principalComponents = pca.fit_transform(X_scaled)\n",
    "principalDf = pd.DataFrame(data = principalComponents\n",
    "             , columns = ['principal component 1', 'principal component 2', 'principal component 3'])\n",
    "\n",
    "# Plotting the explained variance as bar plot\n",
    "\n",
    "plt.figure(figsize=(10,5))\n",
    "plt.bar(range(1,4), pca.explained_variance_ratio_)\n",
    "plt.xlabel('Principal Component')\n",
    "plt.ylabel('Explained Variance')\n",
    "plt.title('Explained Variance by Principal Component for Soil Temperature')\n",
    "plt.show()"
   ]
  },
  {
   "cell_type": "markdown",
   "id": "8f6e7918-b068-41ac-a3ce-907129357548",
   "metadata": {},
   "source": [
    "#### We can see from the plots, the first principal component explains  more than 90% of the variance for soil temperature data"
   ]
  },
  {
   "cell_type": "code",
   "execution_count": 9,
   "id": "25a20021-188f-4116-beea-effdfc924ff9",
   "metadata": {},
   "outputs": [],
   "source": [
    "# We can use the first principal component to represent the soil temperature data.\n",
    "\n",
    "# Adding the first principal component to the dataframe\n",
    "df['st_pca'] = principalDf['principal component 1']"
   ]
  },
  {
   "cell_type": "code",
   "execution_count": 10,
   "id": "58acd584-89b4-4187-8f06-32bbb1b2a055",
   "metadata": {},
   "outputs": [],
   "source": [
    "# Reseting the index and dropping the old index\n",
    "df.reset_index(drop=True, inplace=True)"
   ]
  },
  {
   "cell_type": "code",
   "execution_count": null,
   "id": "6e566402-c96a-4260-aeea-bfb7f0bc03da",
   "metadata": {},
   "outputs": [],
   "source": [
    "# Saving the final dataframe with PCA data\n",
    "\n",
    "# This is if you want to save it \n",
    "\n",
    "# df.to_parquet('data/final_data/pueblo_pca.parquet')"
   ]
  },
  {
   "cell_type": "markdown",
   "id": "90e629bf-adff-49c3-b615-691da7792c58",
   "metadata": {},
   "source": [
    "For your programming assignment, you will be repeating this exercise but this time using `Soil Moisture` data"
   ]
  },
  {
   "cell_type": "code",
   "execution_count": null,
   "id": "3f4618f8-6237-4cf4-9c5e-04eaab149ece",
   "metadata": {},
   "outputs": [],
   "source": []
  }
 ],
 "metadata": {
  "kernelspec": {
   "display_name": "Python 3 (ipykernel)",
   "language": "python",
   "name": "python3"
  },
  "language_info": {
   "codemirror_mode": {
    "name": "ipython",
    "version": 3
   },
   "file_extension": ".py",
   "mimetype": "text/x-python",
   "name": "python",
   "nbconvert_exporter": "python",
   "pygments_lexer": "ipython3",
   "version": "3.10.6"
  }
 },
 "nbformat": 4,
 "nbformat_minor": 5
}
